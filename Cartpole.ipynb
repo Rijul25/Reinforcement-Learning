{
 "cells": [
  {
   "cell_type": "code",
   "execution_count": 5,
   "metadata": {},
   "outputs": [],
   "source": [
    "import gym"
   ]
  },
  {
   "cell_type": "code",
   "execution_count": 6,
   "metadata": {},
   "outputs": [],
   "source": [
    "#Create an environemnt\n",
    "env = gym.make('CartPole-v0')\n"
   ]
  },
  {
   "cell_type": "code",
   "execution_count": 7,
   "metadata": {},
   "outputs": [
    {
     "data": {
      "text/plain": [
       "array([-0.00208379, -0.01575204,  0.01641841, -0.00874984])"
      ]
     },
     "execution_count": 7,
     "metadata": {},
     "output_type": "execute_result"
    }
   ],
   "source": [
    "env.reset()"
   ]
  },
  {
   "cell_type": "code",
   "execution_count": 8,
   "metadata": {},
   "outputs": [
    {
     "data": {
      "text/plain": [
       "Discrete(2)"
      ]
     },
     "execution_count": 8,
     "metadata": {},
     "output_type": "execute_result"
    }
   ],
   "source": [
    "env.action_space"
   ]
  },
  {
   "cell_type": "code",
   "execution_count": 5,
   "metadata": {},
   "outputs": [
    {
     "name": "stderr",
     "output_type": "stream",
     "text": [
      "/usr/local/lib/python3.7/site-packages/gym/logger.py:30: UserWarning: \u001b[33mWARN: You are calling 'step()' even though this environment has already returned done = True. You should always call 'reset()' once you receive 'done = True' -- any further steps are undefined behavior.\u001b[0m\n",
      "  warnings.warn(colorize('%s: %s'%('WARN', msg % args), 'yellow'))\n"
     ]
    }
   ],
   "source": [
    "for t in range(1000):\n",
    "    random_action=env.action_space.sample()\n",
    "    env.step(random_action)\n",
    "    env.render() \n",
    "env.close()"
   ]
  },
  {
   "cell_type": "code",
   "execution_count": 9,
   "metadata": {},
   "outputs": [
    {
     "name": "stdout",
     "output_type": "stream",
     "text": [
      "Game episode :0/20 High score :20\n",
      "Game episode :1/20 High score :29\n",
      "Game episode :2/20 High score :9\n",
      "Game episode :3/20 High score :26\n",
      "Game episode :4/20 High score :36\n",
      "Game episode :5/20 High score :18\n",
      "Game episode :6/20 High score :16\n",
      "Game episode :7/20 High score :17\n",
      "Game episode :8/20 High score :10\n",
      "Game episode :9/20 High score :28\n",
      "Game episode :10/20 High score :18\n",
      "Game episode :11/20 High score :20\n",
      "Game episode :13/20 High score :22\n",
      "Game episode :14/20 High score :13\n",
      "Game episode :15/20 High score :25\n",
      "Game episode :16/20 High score :10\n",
      "Game episode :17/20 High score :16\n",
      "Game episode :18/20 High score :14\n",
      "Game episode :19/20 High score :39\n",
      "All 20 episodes over\n"
     ]
    }
   ],
   "source": [
    "for e in range(20): #Episode\n",
    "    #Play 20 episodes\n",
    "    observation=env.reset()\n",
    "    for t in range(50): #50 is the maximum timesteps i would play an episode\n",
    "        env.render()\n",
    "        action=env.action_space.sample()\n",
    "        observation,reward,done,other_info=env.step(action)\n",
    "        \n",
    "        if done:\n",
    "            #Game episode is over\n",
    "            print(\"Game episode :{}/{} High score :{}\".format(e,20,t))\n",
    "            break\n",
    "\n",
    "env.close()\n",
    "print(\"All 20 episodes over\")"
   ]
  },
  {
   "cell_type": "code",
   "execution_count": null,
   "metadata": {},
   "outputs": [],
   "source": []
  }
 ],
 "metadata": {
  "kernelspec": {
   "display_name": "Python 3",
   "language": "python",
   "name": "python3"
  },
  "language_info": {
   "codemirror_mode": {
    "name": "ipython",
    "version": 3
   },
   "file_extension": ".py",
   "mimetype": "text/x-python",
   "name": "python",
   "nbconvert_exporter": "python",
   "pygments_lexer": "ipython3",
   "version": "3.7.3"
  }
 },
 "nbformat": 4,
 "nbformat_minor": 2
}
